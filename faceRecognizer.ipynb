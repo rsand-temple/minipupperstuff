{
 "cells": [
  {
   "cell_type": "code",
   "execution_count": 26,
   "id": "399a95fc-f71d-4fb8-ae8a-0e4763f57b97",
   "metadata": {},
   "outputs": [],
   "source": [
    "import cv2"
   ]
  },
  {
   "cell_type": "code",
   "execution_count": 27,
   "id": "35acdf14-493e-4a8c-8919-70fb297b861a",
   "metadata": {},
   "outputs": [],
   "source": [
    "from IPython.display import display,Image"
   ]
  },
  {
   "cell_type": "code",
   "execution_count": 28,
   "id": "69f9ed99-413e-4f2f-8ee2-9917c631c615",
   "metadata": {},
   "outputs": [],
   "source": [
    "import ipywidgets.widgets as widgets"
   ]
  },
  {
   "cell_type": "code",
   "execution_count": 29,
   "id": "991cd77d-abb6-47c2-8386-ea5a9815d06a",
   "metadata": {},
   "outputs": [],
   "source": [
    "import face_recognition\n",
    "import os\n",
    "import pickle"
   ]
  },
  {
   "cell_type": "code",
   "execution_count": 30,
   "id": "9e188886-acfa-463a-94c4-0ab116b426af",
   "metadata": {},
   "outputs": [],
   "source": [
    "font = cv2.FONT_HERSHEY_SIMPLEX"
   ]
  },
  {
   "cell_type": "code",
   "execution_count": 31,
   "id": "ce2b9413-1864-483e-ab32-227d72a8f1b9",
   "metadata": {},
   "outputs": [],
   "source": [
    "scale = 0.333"
   ]
  },
  {
   "cell_type": "code",
   "execution_count": 32,
   "id": "6d8544e3-43e8-453d-a4dd-db8999b33ea1",
   "metadata": {},
   "outputs": [
    {
     "name": "stderr",
     "output_type": "stream",
     "text": [
      "[ WARN:0] global ./modules/videoio/src/cap_gstreamer.cpp (1100) open OpenCV | GStreamer warning: Cannot query video position: status=0, value=-1, duration=-1\n"
     ]
    }
   ],
   "source": [
    "# Start the video capture\n",
    "cam=cv2.VideoCapture(1)"
   ]
  },
  {
   "cell_type": "code",
   "execution_count": 33,
   "id": "192a0562-2edb-44eb-8c25-850707e813c5",
   "metadata": {},
   "outputs": [],
   "source": [
    "# Open the training data\n",
    "with open('/home/ubuntu/docs/train.pkl', 'rb') as tdf:\n",
    "    names = pickle.load(tdf)\n",
    "    encodings = pickle.load(tdf)"
   ]
  },
  {
   "cell_type": "code",
   "execution_count": 34,
   "id": "d4286651-2d0f-4dfa-bc17-86d6e3b7d74b",
   "metadata": {},
   "outputs": [
    {
     "data": {
      "text/plain": [
       "None"
      ]
     },
     "metadata": {},
     "output_type": "display_data"
    }
   ],
   "source": [
    "# Start the IPython display\n",
    "display_handle=display(None, display_id=True)    "
   ]
  },
  {
   "cell_type": "code",
   "execution_count": 35,
   "id": "d149e623-9203-46c7-8926-15ecc6f8fbdc",
   "metadata": {},
   "outputs": [],
   "source": [
    "try:\n",
    "    while True:\n",
    "        # Read the next frame\n",
    "        _, frame = cam.read()\n",
    "        frame = cv2.flip(frame, 1) # if your camera reverses your image\n",
    "\n",
    "        # Convert to RGB\n",
    "        frameSmall = cv2.resize(frame,(0,0), fx=scale, fy=scale)\n",
    "        frameRGB = cv2.cvtColor(frameSmall, cv2.COLOR_BGR2RGB)\n",
    "\n",
    "        # Find faces\n",
    "        facePositions = face_recognition.face_locations(frameRGB)\n",
    "        allEncodings = face_recognition.face_encodings(frameRGB, facePositions)\n",
    "        for (top,right,bottom,left),face_encoding in zip(facePositions,allEncodings):\n",
    "            name = 'Unknown'\n",
    "            matches = face_recognition.compare_faces(encodings, face_encoding)\n",
    "            if True in matches:\n",
    "                matchIdx = matches.index(True)\n",
    "                name = names[matchIdx]\n",
    "                print('Recognized', name)\n",
    "            top = int(top / scale)\n",
    "            right = int(right / scale)\n",
    "            bottom = int(bottom / scale)\n",
    "            left = int(left / scale)\n",
    "            cv2.rectangle(frame, (left,top), (right,bottom), (255,0,255), 2)\n",
    "            cv2.putText(frame, name, (left,top - 6), font, 0.75, (255,0,255), 2)\n",
    "            \n",
    "        # Display as jpeg image\n",
    "        _, frame = cv2.imencode('.jpeg', frame)\n",
    "        display_handle.update(Image(data=frame.tobytes()))\n",
    "except KeyboardInterrupt:\n",
    "    pass\n",
    "finally:\n",
    "    cam.release()\n",
    "    display_handle.update(None)        "
   ]
  },
  {
   "cell_type": "code",
   "execution_count": null,
   "id": "4c8cdc70-f72e-412d-b9cc-d313c998820a",
   "metadata": {},
   "outputs": [],
   "source": []
  }
 ],
 "metadata": {
  "kernelspec": {
   "display_name": "Python 3 (ipykernel)",
   "language": "python",
   "name": "python3"
  },
  "language_info": {
   "codemirror_mode": {
    "name": "ipython",
    "version": 3
   },
   "file_extension": ".py",
   "mimetype": "text/x-python",
   "name": "python",
   "nbconvert_exporter": "python",
   "pygments_lexer": "ipython3",
   "version": "3.10.12"
  }
 },
 "nbformat": 4,
 "nbformat_minor": 5
}
